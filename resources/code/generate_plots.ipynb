{
 "cells": [
  {
   "cell_type": "code",
   "execution_count": 1,
   "metadata": {},
   "outputs": [],
   "source": [
    "import pandas as pd\n",
    "\n",
    "def simplify(df, name, start_time):\n",
    "    df_grouped = df.groupby(by=['time']).count()\n",
    "    df_grouped.insert(0, \"tot_subs\", range(1, 1+len(df_grouped)))\n",
    "    df_grouped['name'] = name\n",
    "    df_grouped = df_grouped.drop(['userid'], axis=1)\n",
    "    df_grouped['time'] = df_grouped.index\n",
    "    df_grouped['date'] =  pd.to_datetime(df_grouped['time'], unit='s') ## pandas recognizes your format\n",
    "    df_grouped['diff'] = df_grouped['time'] - start_time\n",
    "    df_grouped['delta_days'] = pd.to_timedelta(df_grouped['diff'], unit='s', errors='raise').dt.days\n",
    "    #df_grouped = df_grouped.sort_values(by=['time'])\n",
    "    return df_grouped\n",
    "#top1_grouped\n",
    "\n",
    "\n",
    "def distill(src_df):\n",
    "    df = src_df.groupby(by=['delta_days']).count()\n",
    "    df['delta_days'] = df.index\n",
    "    df['subs'] = df['tot_subs']\n",
    "    df['tot_subs'] = df['subs'].cumsum()\n",
    "    df = df.drop(['name', 'submission', 'time', 'date', 'diff'], axis=1)\n",
    "    df = df.reset_index(drop=True)\n",
    "    return df\n",
    "\n"
   ]
  },
  {
   "cell_type": "code",
   "execution_count": 2,
   "metadata": {},
   "outputs": [
    {
     "name": "stdout",
     "output_type": "stream",
     "text": [
      "userid:\t['mlsmgfm' 'pip' 'qjykdxju' 'npttlpwx']\n",
      "submission:\t[ 2  1  3  5  9  4 10  6  8  7]\n"
     ]
    }
   ],
   "source": [
    "# Read and inspect\n",
    "\n",
    "df = pd.read_csv(\"antiphish_top_submission_timing-anon.csv\", index_col = 0)\n",
    "\n",
    "\n",
    "for c in df.columns:\n",
    "    if c == \"time\":\n",
    "        continue\n",
    "    print(\"{}:\\t{}\".format(c,df[c].unique()))"
   ]
  },
  {
   "cell_type": "code",
   "execution_count": 3,
   "metadata": {},
   "outputs": [
    {
     "name": "stdout",
     "output_type": "stream",
     "text": [
      "SANITY CHECK\n",
      "22 50 54 528\n",
      "654 654\n"
     ]
    }
   ],
   "source": [
    "top1_name = \"npttlpwx\"\n",
    "top2_name = \"qjykdxju\"\n",
    "top3_name = \"pip\"\n",
    "top4_name = \"mlsmgfm\"\n",
    "\n",
    "# taken from the final results of the challenge\n",
    "top1_queries = 320\n",
    "top2_queries = 343\n",
    "top3_queries = 608\n",
    "top4_queries = 9982\n",
    "\n",
    "top1_df = df[df['userid']==top1_name]\n",
    "top2_df = df[df['userid']==top2_name]\n",
    "top3_df = df[df['userid']==top3_name]\n",
    "top4_df = df[df['userid']==top4_name]\n",
    "\n",
    "start_time = 1628258400 # august 6, 2021 at midnight (https://cujo.com/machine-learning-security-evasion-competition-2021-calls-for-researchers-and-practitioners/)\n",
    "\n",
    "print(\"SANITY CHECK\")\n",
    "print(len(top1_df), len(top2_df), len(top3_df), len(top4_df))\n",
    "print(len(df), (len(top1_df)+len(top2_df)+len(top3_df)+len(top4_df)))"
   ]
  },
  {
   "cell_type": "code",
   "execution_count": 4,
   "metadata": {},
   "outputs": [
    {
     "data": {
      "text/html": [
       "<div>\n",
       "<style scoped>\n",
       "    .dataframe tbody tr th:only-of-type {\n",
       "        vertical-align: middle;\n",
       "    }\n",
       "\n",
       "    .dataframe tbody tr th {\n",
       "        vertical-align: top;\n",
       "    }\n",
       "\n",
       "    .dataframe thead th {\n",
       "        text-align: right;\n",
       "    }\n",
       "</style>\n",
       "<table border=\"1\" class=\"dataframe\">\n",
       "  <thead>\n",
       "    <tr style=\"text-align: right;\">\n",
       "      <th></th>\n",
       "      <th>userid</th>\n",
       "      <th>time</th>\n",
       "      <th>submission</th>\n",
       "    </tr>\n",
       "  </thead>\n",
       "  <tbody>\n",
       "    <tr>\n",
       "      <th>174</th>\n",
       "      <td>npttlpwx</td>\n",
       "      <td>1631912268</td>\n",
       "      <td>3</td>\n",
       "    </tr>\n",
       "    <tr>\n",
       "      <th>354</th>\n",
       "      <td>npttlpwx</td>\n",
       "      <td>1631893334</td>\n",
       "      <td>3</td>\n",
       "    </tr>\n",
       "    <tr>\n",
       "      <th>381</th>\n",
       "      <td>npttlpwx</td>\n",
       "      <td>1631008023</td>\n",
       "      <td>3</td>\n",
       "    </tr>\n",
       "    <tr>\n",
       "      <th>382</th>\n",
       "      <td>npttlpwx</td>\n",
       "      <td>1631008023</td>\n",
       "      <td>2</td>\n",
       "    </tr>\n",
       "    <tr>\n",
       "      <th>383</th>\n",
       "      <td>npttlpwx</td>\n",
       "      <td>1631008023</td>\n",
       "      <td>5</td>\n",
       "    </tr>\n",
       "  </tbody>\n",
       "</table>\n",
       "</div>"
      ],
      "text/plain": [
       "       userid        time  submission\n",
       "174  npttlpwx  1631912268           3\n",
       "354  npttlpwx  1631893334           3\n",
       "381  npttlpwx  1631008023           3\n",
       "382  npttlpwx  1631008023           2\n",
       "383  npttlpwx  1631008023           5"
      ]
     },
     "execution_count": 4,
     "metadata": {},
     "output_type": "execute_result"
    }
   ],
   "source": [
    "top1_df.head()"
   ]
  },
  {
   "cell_type": "code",
   "execution_count": 5,
   "metadata": {},
   "outputs": [
    {
     "data": {
      "text/html": [
       "<div>\n",
       "<style scoped>\n",
       "    .dataframe tbody tr th:only-of-type {\n",
       "        vertical-align: middle;\n",
       "    }\n",
       "\n",
       "    .dataframe tbody tr th {\n",
       "        vertical-align: top;\n",
       "    }\n",
       "\n",
       "    .dataframe thead th {\n",
       "        text-align: right;\n",
       "    }\n",
       "</style>\n",
       "<table border=\"1\" class=\"dataframe\">\n",
       "  <thead>\n",
       "    <tr style=\"text-align: right;\">\n",
       "      <th></th>\n",
       "      <th>tot_subs</th>\n",
       "      <th>submission</th>\n",
       "      <th>name</th>\n",
       "      <th>time</th>\n",
       "      <th>date</th>\n",
       "      <th>diff</th>\n",
       "      <th>delta_days</th>\n",
       "    </tr>\n",
       "    <tr>\n",
       "      <th>time</th>\n",
       "      <th></th>\n",
       "      <th></th>\n",
       "      <th></th>\n",
       "      <th></th>\n",
       "      <th></th>\n",
       "      <th></th>\n",
       "      <th></th>\n",
       "    </tr>\n",
       "  </thead>\n",
       "  <tbody>\n",
       "    <tr>\n",
       "      <th>1631008023</th>\n",
       "      <td>1</td>\n",
       "      <td>10</td>\n",
       "      <td>npttlpwx</td>\n",
       "      <td>1631008023</td>\n",
       "      <td>2021-09-07 09:47:03</td>\n",
       "      <td>2749623</td>\n",
       "      <td>31</td>\n",
       "    </tr>\n",
       "    <tr>\n",
       "      <th>1631891126</th>\n",
       "      <td>2</td>\n",
       "      <td>9</td>\n",
       "      <td>npttlpwx</td>\n",
       "      <td>1631891126</td>\n",
       "      <td>2021-09-17 15:05:26</td>\n",
       "      <td>3632726</td>\n",
       "      <td>42</td>\n",
       "    </tr>\n",
       "    <tr>\n",
       "      <th>1631893334</th>\n",
       "      <td>3</td>\n",
       "      <td>1</td>\n",
       "      <td>npttlpwx</td>\n",
       "      <td>1631893334</td>\n",
       "      <td>2021-09-17 15:42:14</td>\n",
       "      <td>3634934</td>\n",
       "      <td>42</td>\n",
       "    </tr>\n",
       "    <tr>\n",
       "      <th>1631900374</th>\n",
       "      <td>4</td>\n",
       "      <td>1</td>\n",
       "      <td>npttlpwx</td>\n",
       "      <td>1631900374</td>\n",
       "      <td>2021-09-17 17:39:34</td>\n",
       "      <td>3641974</td>\n",
       "      <td>42</td>\n",
       "    </tr>\n",
       "    <tr>\n",
       "      <th>1631912268</th>\n",
       "      <td>5</td>\n",
       "      <td>1</td>\n",
       "      <td>npttlpwx</td>\n",
       "      <td>1631912268</td>\n",
       "      <td>2021-09-17 20:57:48</td>\n",
       "      <td>3653868</td>\n",
       "      <td>42</td>\n",
       "    </tr>\n",
       "  </tbody>\n",
       "</table>\n",
       "</div>"
      ],
      "text/plain": [
       "            tot_subs  submission      name        time                date  \\\n",
       "time                                                                         \n",
       "1631008023         1          10  npttlpwx  1631008023 2021-09-07 09:47:03   \n",
       "1631891126         2           9  npttlpwx  1631891126 2021-09-17 15:05:26   \n",
       "1631893334         3           1  npttlpwx  1631893334 2021-09-17 15:42:14   \n",
       "1631900374         4           1  npttlpwx  1631900374 2021-09-17 17:39:34   \n",
       "1631912268         5           1  npttlpwx  1631912268 2021-09-17 20:57:48   \n",
       "\n",
       "               diff  delta_days  \n",
       "time                             \n",
       "1631008023  2749623          31  \n",
       "1631891126  3632726          42  \n",
       "1631893334  3634934          42  \n",
       "1631900374  3641974          42  \n",
       "1631912268  3653868          42  "
      ]
     },
     "execution_count": 5,
     "metadata": {},
     "output_type": "execute_result"
    }
   ],
   "source": [
    "# Group\n",
    "top1_grouped = simplify(top1_df, top1_name, start_time)\n",
    "top2_grouped = simplify(top2_df, top2_name, start_time)\n",
    "top3_grouped = simplify(top3_df, top3_name, start_time)\n",
    "top4_grouped = simplify(top4_df, top4_name, start_time)\n",
    "\n",
    "top1_grouped.head()"
   ]
  },
  {
   "cell_type": "code",
   "execution_count": 6,
   "metadata": {},
   "outputs": [
    {
     "data": {
      "text/html": [
       "<div>\n",
       "<style scoped>\n",
       "    .dataframe tbody tr th:only-of-type {\n",
       "        vertical-align: middle;\n",
       "    }\n",
       "\n",
       "    .dataframe tbody tr th {\n",
       "        vertical-align: top;\n",
       "    }\n",
       "\n",
       "    .dataframe thead th {\n",
       "        text-align: right;\n",
       "    }\n",
       "</style>\n",
       "<table border=\"1\" class=\"dataframe\">\n",
       "  <thead>\n",
       "    <tr style=\"text-align: right;\">\n",
       "      <th></th>\n",
       "      <th>tot_subs</th>\n",
       "      <th>delta_days</th>\n",
       "      <th>subs</th>\n",
       "    </tr>\n",
       "  </thead>\n",
       "  <tbody>\n",
       "    <tr>\n",
       "      <th>0</th>\n",
       "      <td>1</td>\n",
       "      <td>31</td>\n",
       "      <td>1</td>\n",
       "    </tr>\n",
       "    <tr>\n",
       "      <th>1</th>\n",
       "      <td>5</td>\n",
       "      <td>42</td>\n",
       "      <td>4</td>\n",
       "    </tr>\n",
       "  </tbody>\n",
       "</table>\n",
       "</div>"
      ],
      "text/plain": [
       "   tot_subs  delta_days  subs\n",
       "0         1          31     1\n",
       "1         5          42     4"
      ]
     },
     "execution_count": 6,
     "metadata": {},
     "output_type": "execute_result"
    }
   ],
   "source": [
    "# Distill\n",
    "top1_distilled = distill(top1_grouped)\n",
    "top2_distilled = distill(top2_grouped)\n",
    "top3_distilled = distill(top3_grouped)\n",
    "top4_distilled = distill(top4_grouped)\n",
    "\n",
    "top1_distilled.head()"
   ]
  },
  {
   "cell_type": "code",
   "execution_count": 7,
   "metadata": {},
   "outputs": [
    {
     "data": {
      "image/png": "[encoded data removed]",
      "text/plain": [
       "<Figure size 600x300 with 1 Axes>"
      ]
     },
     "metadata": {},
     "output_type": "display_data"
    }
   ],
   "source": [
    "# Plot\n",
    "\n",
    "ax = top1_distilled.plot(x='delta_days', marker='d', y='tot_subs', figsize=(6, 3), label='1st: ${}$ (q={})'.format(top1_name, top1_queries))\n",
    "top2_distilled.plot(ax=ax, marker='d', x='delta_days', y='tot_subs', label='2nd: ${}$ (q={})'.format(top2_name, top2_queries))\n",
    "top3_distilled.plot(ax=ax, marker='d', x='delta_days', y='tot_subs', label='3rd: ${}$ (q={})'.format(top3_name, top3_queries))\n",
    "top4_distilled.plot(ax=ax, marker='d', x='delta_days', y='tot_subs', label='4th: ${}$ (q={})'.format(top4_name, top4_queries))\n",
    "ax.grid()\n",
    "# ax.tick_params(axis='both', which='major', labelsize=10)\n",
    "# ax.set_xticks(fontsize=20)\n",
    "ax.set_xlim(0, 45)\n",
    "ax.set_ylim(-5, 255)\n",
    "ax.set_xlabel(\"days since start\", fontsize=12)\n",
    "ax.set_ylabel(\"cumulative submissions\", fontsize=12)\n",
    "ax.figure.tight_layout()\n",
    "ax.figure.savefig(\"results.pdf\")"
   ]
  }
 ],
 "metadata": {
  "kernelspec": {
   "display_name": "Python 3 (ipykernel)",
   "language": "python",
   "name": "python3"
  },
  "language_info": {
   "codemirror_mode": {
    "name": "ipython",
    "version": 3
   },
   "file_extension": ".py",
   "mimetype": "text/x-python",
   "name": "python",
   "nbconvert_exporter": "python",
   "pygments_lexer": "ipython3",
   "version": "3.9.13"
  }
 },
 "nbformat": 4,
 "nbformat_minor": 4
}
